{
 "cells": [
  {
   "cell_type": "markdown",
   "metadata": {},
   "source": [
    "# Naïve Bayes Classifier for Sentiment Analysis of Amazon Users’ Reviews of Refurbished iPhone 7s\r\n",
    "\r\n",
    "Naive Bayes is one of the simplest classification algorithms for large chunks of data. It is used in various applications such as spam filtering, text classification, sentiment analysis, and recommendation systems. It uses the Bayes probability theorem for `unknown class prediction`.\r\n",
    "\r\n",
    "The use of Bayes’ theorem with a `strong independence assumption` between the features is the basis for naive Bayes classification. When used for textual data analysis, such as Natural Language Processing, the Naive Bayes classification `yields good results`.\r\n",
    "\r\n",
    "## Import Required Packages"
   ]
  },
  {
   "cell_type": "code",
   "execution_count": 107,
   "metadata": {},
   "outputs": [],
   "source": [
    "import pandas as pd \r\n",
    "import numpy as np \r\n",
    "import scipy \r\n",
    "from sklearn.feature_extraction.text import CountVectorizer\r\n",
    "from sklearn.naive_bayes import MultinomialNB\r\n",
    "from sklearn.model_selection import train_test_split\r\n",
    "import warnings\r\n",
    "warnings.filterwarnings('ignore')"
   ]
  },
  {
   "cell_type": "markdown",
   "metadata": {},
   "source": [
    "## Read-In Testing and Training Data\r\n",
    "The following list (`training_set_descriptive_features`) contains 10 real reviews from customers who purchased an iPhone 7 from an aftermarket refurbished products reseller. \r\n",
    "- The first 6 are positive reviews while the last 4 are negative reviews.\r\n",
    "- This is reflected in the subsequent list (`training_set_target_features`) which contains the `postive class labels (1)` and `negative class labels (2)`.\r\n",
    "- The last list (`testing_set_descriptive_features`) contains 2 real reviews made by customers which have no class label. That is, we do not know apriori whether they are positive or negative reviews. "
   ]
  },
  {
   "cell_type": "code",
   "execution_count": 108,
   "metadata": {},
   "outputs": [],
   "source": [
    "training_set_descriptive_features = [\"I’ve seen a lot of bad reviews for this phone based on issues with the seller. Granted, some of those reviews say it took a few weeks for the problems to appear so I’ll edit this if that happens, but wow was I happy with what I got. Not only did it come with a charger (there’s some debate on that in other reviews), but it even had a clear bumper case. That was neither expected nor necessary but I appreciated it (I bought a Unicorn Beetle case which I have used and loved before on other phones). There wasn’t a scratch on this phone and it started working right away for me. The battery seems to be holding up fine. All in all I’d say this seems like a steal. If it self destructs on me in the next few weeks I’ll update this. UPDATE: It's been a few months and a trip overseas since I wrote that initial review, and it remains a solid decision I'm very happy with.\",\r\n",
    "\"This phone looks and performs great like it's brand new. Not one scratch. The phone came with a screen protector and a charger. I was surprised as other reviews said they did not get one. For $269, I feel like this was a steal, compared to other listings. Hopefully nothing goes wrong with the phone later. But with the Amazon 90 day guarantee I'm a little more at ease about possible return. Never bought a refurbished phone before. Not sure what to expect. As far as my order, I am happy with it.\", \r\n",
    "\"Don't listen to bad reviews! My phone arrived in great condition. There are no scratches on the glass, and there is no visible wear and tear on the case. It works perfectly. I inserted my carrier-provided SIM card in the SIM tray and it was immediately available on AT&T's network. A SIM tray key was included in the box along with protective plastic covers for the screen. A charging cable and standard outlet plug were also included in the box. This version of the iPhone does not have a headphone jack. I did not receive a headphone insert in the box, but (#1) I don't need one as all of my headphones are Bluetooth and (#2) I don't know if Apple included this in the original packaging so this is just a courtesy note for potential buyers of the iPhone 7, not a complaint. The seller contacted me after I received my phone to make sure I was happy with the purchase and I am.\", \r\n",
    "\"Love this phone! I am so glad I bought a refurbished one. I took it to the Apple store just in case to do a diagnostics on it and said that it was refurbished and bought through Amazon, and Apple checked it and said everything is great. Very happy with my purchase.\", \r\n",
    "\"First, seller did a great job and I think I got a good price for an iPhone 7, I just think ALL CELL PHONES are way way way too expensive. When a Cell phone costs more than a good laptop computer that is too expensive. Second all Smart phones have bad battery life. Apple's iPhones are no exception. There is a mode on the iPhone 7 to allow for an extended battery life setting. But I see no difference between the extended setting and the normal setting. I do not use my phone except for emergencies so I would expect the phone to last 5-6 days between charging, but I am averaging 3-4 days between charging. I am having an issue that the WiFi doesn't see both of my wireless networks (dual band router). Seller tried to help but Apple's support said if it sees a network that's all they care about. Phone appears to be working fine and so far I am happy with it.\", \r\n",
    "\"Received prompt delivery of the phone. I inserted my 'sim card' and the phone was functional with no issues and I could make and receive calls right away, so far so good. I received the phone which is cosmetically in very good condition and I am quite happy with my purchase with exception of two minor issues which I believe someone could provide me guidance to resolve or trouble shoot.\", \r\n",
    "\"Overall, the phone isn't too bad for the price. It came already scratched up, overheats more than a normal iPhone (I've had tons of iPhones). The delivery process of just getting the phone was pretty stressful, I'm a month and half in using the iPhone and I called customer service to see if they could replace my iphone because it got to the point where my hands feel the burning from the phone... the lady was so unhelpful, bland and kind of rude. The return proccess would be such a hassle and leave me phoneless so I decided to keep the phone instead. All the functions work fine, it's just that the iphone started heating up the moment I got it. I don't usually write reviews no matter how good or bad a product is, but I've never received such bad service from a company, especially amazon sellers. I'm basically stuck with the phone, or be phoneless. I would recommend the phone, but just know there will definitely some things you need to deal with. HAVE A NICE DAY TO WHOEVER IS READING :)\", \r\n",
    "\"The iPhone 7 I purchased was \\\"certified refurbished\\\" and labeled as \\\"new\\\" quality but doesn't work. The phone looks great, but when I first turned it on it was in a restart loop. This was a bad sign to begin with, but I gave it the benefit of the doubt and connected it to my computer. When I finally got it to restore to factory settings, the screen started glitching to the point where there was nothing to stop it, and if it did get to the startup screen, it was non-responsive.\",\r\n",
    "\"Initially I was happy with the phone. It looked great physically and had no signs of wear and tear. However, the battery health was lower than I wanted; the phone said the battery health was 88%. However, I knew from the ad, that it could ship with as low as 85%, so I can't complain too much about that. The biggest issue with the phone that was an absolute deal breaker was that it frequently crashed and closed apps on me. Other times it would freeze up. Imagine having an emergency and having to make a phone call, only to find out that your phone decided to freeze up?! I have a family, so that's completely unacceptable. The phone also seemed to have connectivity issues and would not connect well with my wifi. It was slower than my other devices on my wifi and would sometimes freeze up. With the problems that I was having, I'm thinking it was a bad main board or \\\"motherboard\\\". The seller was MobileSpree. I contacted them and asked for an exchange. They refused to do an exchange and said my only option was to return it. I returned it with the shipping label provided by Amazon. However, even after 5 days of having the phone back, they would not refund my money. I had to get Amazon involved to get a refund. Overall, don't buy. It was a waste of time and money and a hassle to get refunded.\", \r\n",
    "\"Be cautious - if you have ANY issues at all, return phone immediately. We got one for my daughter, paid $244 and it didn’t last 4 months. Seller will not replace/return as it is past 90 days. She had intermittent issues with service connections shortly after receiving the phone. When it finally stopped connecting at all and we had it checked at the AT&T store, they told us it was an internal issue with the SIM card brackets that connects to the mother board. Basically causing a fatal error and cannot get any service connection. I contacted the seller and received the generic “past the 90 day warranty” so there is nothing they will do about it. We may try to have it repaired, but the repair shop is looking at $100 to inspect and possibly repair, if it can be repaired. I guess that’s our expensive mistake, but at least we can warn others.\"]\r\n",
    "\r\n",
    "training_set_target_features = [1, 1, 1, 1, 1, 1, 2, 2, 2, 2]\r\n",
    "\r\n",
    "testing_set_descriptive_features = [\"The phone arrived in pretty decent condition. The front screen was scratch-free and the display is great, but there is a long scratch on the back of the phone. This doesn't bother me much because I always have a case on my phone. However, the issue with this phone is that the cellular signal won't work; the device detects the sim but the signal is bad. Apparently this is an issue with some iPhone 7 models, but the any free of charge repair is not valid because the phone is coming from a third party seller. After speaking with Apple, Verizon (my mobile carrier), AND Amazon, I've reached the conclusion that the issue is with the phone. I've tried everything to troubleshoot, but I will unfortunately have to return the item and get another one.\", \r\n",
    "\"iPhone 7 Black came in excellent condition. Like new. No scratches or scuffs. Works great. Was happy for couple months until phone started to develop issues with hearing callers and vs versa. Callers can’t hear me and I can’t hear callers, the sound is bad. Checked settings . Disabled WiFi calling. Hard reset phone. Updated iOS. Happens randomly. Suspect possible known defects on iPhone 7 with audio IC chips. I want to return the phone but I’m waiting to se for a month\"]"
   ]
  },
  {
   "cell_type": "markdown",
   "metadata": {},
   "source": [
    "Next, we must format the data into Pandas dataframes for further analysis."
   ]
  },
  {
   "cell_type": "code",
   "execution_count": 109,
   "metadata": {},
   "outputs": [
    {
     "data": {
      "text/html": [
       "<div>\n",
       "<style scoped>\n",
       "    .dataframe tbody tr th:only-of-type {\n",
       "        vertical-align: middle;\n",
       "    }\n",
       "\n",
       "    .dataframe tbody tr th {\n",
       "        vertical-align: top;\n",
       "    }\n",
       "\n",
       "    .dataframe thead th {\n",
       "        text-align: right;\n",
       "    }\n",
       "</style>\n",
       "<table border=\"1\" class=\"dataframe\">\n",
       "  <thead>\n",
       "    <tr style=\"text-align: right;\">\n",
       "      <th></th>\n",
       "      <th>reviews</th>\n",
       "      <th>class_label</th>\n",
       "    </tr>\n",
       "  </thead>\n",
       "  <tbody>\n",
       "    <tr>\n",
       "      <th>0</th>\n",
       "      <td>I’ve seen a lot of bad reviews for this phone ...</td>\n",
       "      <td>1</td>\n",
       "    </tr>\n",
       "    <tr>\n",
       "      <th>1</th>\n",
       "      <td>This phone looks and performs great like it's ...</td>\n",
       "      <td>1</td>\n",
       "    </tr>\n",
       "    <tr>\n",
       "      <th>2</th>\n",
       "      <td>Don't listen to bad reviews! My phone arrived ...</td>\n",
       "      <td>1</td>\n",
       "    </tr>\n",
       "    <tr>\n",
       "      <th>3</th>\n",
       "      <td>Love this phone! I am so glad I bought a refur...</td>\n",
       "      <td>1</td>\n",
       "    </tr>\n",
       "    <tr>\n",
       "      <th>4</th>\n",
       "      <td>First, seller did a great job and I think I go...</td>\n",
       "      <td>1</td>\n",
       "    </tr>\n",
       "    <tr>\n",
       "      <th>5</th>\n",
       "      <td>Received prompt delivery of the phone. I inser...</td>\n",
       "      <td>1</td>\n",
       "    </tr>\n",
       "    <tr>\n",
       "      <th>6</th>\n",
       "      <td>Overall, the phone isn't too bad for the price...</td>\n",
       "      <td>2</td>\n",
       "    </tr>\n",
       "    <tr>\n",
       "      <th>7</th>\n",
       "      <td>The iPhone 7 I purchased was \"certified refurb...</td>\n",
       "      <td>2</td>\n",
       "    </tr>\n",
       "    <tr>\n",
       "      <th>8</th>\n",
       "      <td>Initially I was happy with the phone. It looke...</td>\n",
       "      <td>2</td>\n",
       "    </tr>\n",
       "    <tr>\n",
       "      <th>9</th>\n",
       "      <td>Be cautious - if you have ANY issues at all, r...</td>\n",
       "      <td>2</td>\n",
       "    </tr>\n",
       "  </tbody>\n",
       "</table>\n",
       "</div>"
      ],
      "text/plain": [
       "                                             reviews  class_label\n",
       "0  I’ve seen a lot of bad reviews for this phone ...            1\n",
       "1  This phone looks and performs great like it's ...            1\n",
       "2  Don't listen to bad reviews! My phone arrived ...            1\n",
       "3  Love this phone! I am so glad I bought a refur...            1\n",
       "4  First, seller did a great job and I think I go...            1\n",
       "5  Received prompt delivery of the phone. I inser...            1\n",
       "6  Overall, the phone isn't too bad for the price...            2\n",
       "7  The iPhone 7 I purchased was \"certified refurb...            2\n",
       "8  Initially I was happy with the phone. It looke...            2\n",
       "9  Be cautious - if you have ANY issues at all, r...            2"
      ]
     },
     "metadata": {},
     "output_type": "display_data"
    },
    {
     "data": {
      "text/html": [
       "<div>\n",
       "<style scoped>\n",
       "    .dataframe tbody tr th:only-of-type {\n",
       "        vertical-align: middle;\n",
       "    }\n",
       "\n",
       "    .dataframe tbody tr th {\n",
       "        vertical-align: top;\n",
       "    }\n",
       "\n",
       "    .dataframe thead th {\n",
       "        text-align: right;\n",
       "    }\n",
       "</style>\n",
       "<table border=\"1\" class=\"dataframe\">\n",
       "  <thead>\n",
       "    <tr style=\"text-align: right;\">\n",
       "      <th></th>\n",
       "      <th>reviews</th>\n",
       "      <th>class_label</th>\n",
       "    </tr>\n",
       "  </thead>\n",
       "  <tbody>\n",
       "    <tr>\n",
       "      <th>0</th>\n",
       "      <td>The phone arrived in pretty decent condition. ...</td>\n",
       "      <td>NaN</td>\n",
       "    </tr>\n",
       "    <tr>\n",
       "      <th>1</th>\n",
       "      <td>iPhone 7 Black came in excellent condition. Li...</td>\n",
       "      <td>NaN</td>\n",
       "    </tr>\n",
       "  </tbody>\n",
       "</table>\n",
       "</div>"
      ],
      "text/plain": [
       "                                             reviews class_label\n",
       "0  The phone arrived in pretty decent condition. ...         NaN\n",
       "1  iPhone 7 Black came in excellent condition. Li...         NaN"
      ]
     },
     "metadata": {},
     "output_type": "display_data"
    }
   ],
   "source": [
    "training_df = pd.DataFrame(training_set_descriptive_features, columns=['reviews'])\r\n",
    "training_df['class_label'] = training_set_target_features\r\n",
    "display(training_df)\r\n",
    "\r\n",
    "testing_df = pd.DataFrame(columns=['reviews', 'class_label'])\r\n",
    "testing_df['reviews'] = testing_set_descriptive_features\r\n",
    "display(testing_df)\r\n",
    "\r\n",
    "x, x_test, y, y_test = train_test_split(training_df['reviews'], training_df['class_label'], test_size=0.50, random_state=0)"
   ]
  },
  {
   "cell_type": "markdown",
   "metadata": {},
   "source": [
    "## Vectorize Review Text Data \r\n",
    "Once our data is formatted correctly, we can begin the sentiment analysis. \r\n",
    "<br>We start by defining the `stop words`, or keywords which will define the feature vectors for the reviews. \r\n",
    "<br>We then create a `CountVectorizer` object and use it to transform our training data. "
   ]
  },
  {
   "cell_type": "code",
   "execution_count": 110,
   "metadata": {},
   "outputs": [],
   "source": [
    "keywords = [\"Great\",  'Happy',  \"Bad\", \"Return\"]\r\n",
    "vec = CountVectorizer(stop_words=keywords)\r\n",
    "x = vec.fit_transform(x).toarray()\r\n",
    "x_test = vec.transform(x_test).toarray()"
   ]
  },
  {
   "cell_type": "markdown",
   "metadata": {},
   "source": [
    "## Generate Naive Bayes Model\r\n",
    "As you can see below, after fitting our training data, our model makes correct predictions on a test split with 80% accuracy. \r\n",
    "<br>This is a good outcome considering the extremely small sample size. "
   ]
  },
  {
   "cell_type": "code",
   "execution_count": 111,
   "metadata": {},
   "outputs": [
    {
     "data": {
      "text/plain": [
       "0.8"
      ]
     },
     "execution_count": 111,
     "metadata": {},
     "output_type": "execute_result"
    }
   ],
   "source": [
    "model = MultinomialNB()\r\n",
    "model.fit(x, y)\r\n",
    "model.score(x_test, y_test)"
   ]
  },
  {
   "cell_type": "markdown",
   "metadata": {},
   "source": [
    "## Make Predictions on Test Data\r\n",
    "Finally, we can use our trained Naive Bayes model to make predictions of the class labels for our testing data (data with no class labels).\r\n",
    "<br>We reinsert the predictions back into our formatted dataframe, and we see that it predicts both of the reviews to be of class label 2, or negative reviews. \r\n",
    "<br>This is consistent with the intuition one develops when reading the reviews for one's self. "
   ]
  },
  {
   "cell_type": "code",
   "execution_count": 112,
   "metadata": {},
   "outputs": [
    {
     "data": {
      "text/html": [
       "<div>\n",
       "<style scoped>\n",
       "    .dataframe tbody tr th:only-of-type {\n",
       "        vertical-align: middle;\n",
       "    }\n",
       "\n",
       "    .dataframe tbody tr th {\n",
       "        vertical-align: top;\n",
       "    }\n",
       "\n",
       "    .dataframe thead th {\n",
       "        text-align: right;\n",
       "    }\n",
       "</style>\n",
       "<table border=\"1\" class=\"dataframe\">\n",
       "  <thead>\n",
       "    <tr style=\"text-align: right;\">\n",
       "      <th></th>\n",
       "      <th>reviews</th>\n",
       "      <th>class_label</th>\n",
       "    </tr>\n",
       "  </thead>\n",
       "  <tbody>\n",
       "    <tr>\n",
       "      <th>0</th>\n",
       "      <td>The phone arrived in pretty decent condition. ...</td>\n",
       "      <td>2</td>\n",
       "    </tr>\n",
       "    <tr>\n",
       "      <th>1</th>\n",
       "      <td>iPhone 7 Black came in excellent condition. Li...</td>\n",
       "      <td>2</td>\n",
       "    </tr>\n",
       "  </tbody>\n",
       "</table>\n",
       "</div>"
      ],
      "text/plain": [
       "                                             reviews  class_label\n",
       "0  The phone arrived in pretty decent condition. ...            2\n",
       "1  iPhone 7 Black came in excellent condition. Li...            2"
      ]
     },
     "execution_count": 112,
     "metadata": {},
     "output_type": "execute_result"
    }
   ],
   "source": [
    "predictions = model.predict(vec.transform(testing_df['reviews']))\r\n",
    "testing_df['class_label'] = predictions\r\n",
    "testing_df"
   ]
  },
  {
   "cell_type": "code",
   "execution_count": 118,
   "metadata": {},
   "outputs": [
    {
     "data": {
      "text/plain": [
       "array([[-5.15521652, -6.25382881, -5.15521652, -5.56068163, -3.68887945,\n",
       "        -5.56068163, -5.15521652, -5.56068163, -6.25382881, -5.15521652,\n",
       "        -5.56068163, -5.56068163, -6.25382881, -5.56068163, -5.56068163,\n",
       "        -6.25382881, -5.56068163, -5.56068163, -5.56068163, -6.25382881,\n",
       "        -5.56068163, -6.25382881, -6.25382881, -4.86753445, -5.56068163,\n",
       "        -6.25382881, -4.86753445, -6.25382881, -5.56068163, -6.25382881,\n",
       "        -5.56068163, -4.86753445, -6.25382881, -5.56068163, -5.56068163,\n",
       "        -5.56068163, -5.56068163, -6.25382881, -6.25382881, -5.56068163,\n",
       "        -6.25382881, -5.56068163, -5.15521652, -6.25382881, -6.25382881,\n",
       "        -6.25382881, -5.56068163, -6.25382881, -5.56068163, -6.25382881,\n",
       "        -5.56068163, -5.56068163, -5.56068163, -5.56068163, -5.56068163,\n",
       "        -6.25382881, -6.25382881, -6.25382881, -5.56068163, -6.25382881,\n",
       "        -5.56068163, -5.56068163, -5.56068163, -5.56068163, -6.25382881,\n",
       "        -5.56068163, -6.25382881, -4.86753445, -6.25382881, -5.56068163,\n",
       "        -6.25382881, -4.86753445, -6.25382881, -5.56068163, -6.25382881,\n",
       "        -6.25382881, -6.25382881, -6.25382881, -5.56068163, -6.25382881,\n",
       "        -5.15521652, -5.56068163, -5.56068163, -5.56068163, -5.56068163,\n",
       "        -5.56068163, -6.25382881, -6.25382881, -5.56068163, -4.6443909 ,\n",
       "        -6.25382881, -5.56068163, -6.25382881, -5.56068163, -6.25382881,\n",
       "        -5.15521652, -4.46206934, -5.56068163, -5.56068163, -6.25382881,\n",
       "        -6.25382881, -6.25382881, -5.15521652, -6.25382881, -4.86753445,\n",
       "        -3.68887945, -5.56068163, -6.25382881, -6.25382881, -6.25382881,\n",
       "        -6.25382881, -6.25382881, -6.25382881, -5.56068163, -5.15521652,\n",
       "        -6.25382881, -6.25382881, -5.56068163, -5.56068163, -5.56068163,\n",
       "        -5.56068163, -6.25382881, -4.86753445, -5.56068163, -6.25382881,\n",
       "        -6.25382881, -5.56068163, -6.25382881, -4.86753445, -5.56068163,\n",
       "        -6.25382881, -5.56068163, -6.25382881, -6.25382881, -5.56068163,\n",
       "        -6.25382881, -5.56068163, -6.25382881, -5.56068163, -6.25382881,\n",
       "        -5.56068163, -6.25382881, -4.6443909 , -4.30791866, -5.56068163,\n",
       "        -5.56068163, -5.56068163, -5.15521652, -6.25382881, -6.25382881,\n",
       "        -5.56068163, -4.30791866, -6.25382881, -5.56068163, -6.25382881,\n",
       "        -6.25382881, -6.25382881, -5.56068163, -6.25382881, -6.25382881,\n",
       "        -6.25382881, -5.56068163, -5.56068163, -5.15521652, -6.25382881,\n",
       "        -6.25382881, -5.56068163, -6.25382881, -5.56068163, -5.15521652,\n",
       "        -6.25382881, -5.15521652, -5.56068163, -6.25382881, -5.56068163,\n",
       "        -6.25382881, -6.25382881, -6.25382881, -6.25382881, -5.56068163,\n",
       "        -4.86753445, -5.15521652, -6.25382881, -5.15521652, -5.15521652,\n",
       "        -5.56068163, -6.25382881, -6.25382881, -6.25382881, -5.15521652,\n",
       "        -5.56068163, -5.56068163, -5.56068163, -6.25382881, -6.25382881,\n",
       "        -6.25382881, -5.56068163, -6.25382881, -5.56068163, -5.56068163,\n",
       "        -4.6443909 , -5.56068163, -5.15521652, -5.56068163, -5.56068163,\n",
       "        -6.25382881, -5.56068163, -6.25382881, -5.56068163, -6.25382881,\n",
       "        -6.25382881, -6.25382881, -6.25382881, -4.46206934, -4.05660423,\n",
       "        -5.15521652, -6.25382881, -6.25382881, -4.30791866, -5.56068163,\n",
       "        -5.56068163, -4.46206934, -6.25382881, -6.25382881, -5.15521652,\n",
       "        -5.56068163, -5.56068163, -6.25382881, -5.56068163, -6.25382881,\n",
       "        -5.56068163, -5.56068163, -5.15521652, -5.56068163, -6.25382881,\n",
       "        -6.25382881, -5.56068163, -4.86753445, -4.6443909 , -5.56068163,\n",
       "        -5.15521652, -5.56068163, -6.25382881, -6.25382881, -4.86753445,\n",
       "        -6.25382881, -6.25382881, -4.05660423, -6.25382881, -5.56068163,\n",
       "        -6.25382881, -5.56068163, -6.25382881, -5.56068163, -6.25382881],\n",
       "       [-5.54322241, -5.54322241, -6.23636959, -5.54322241, -4.15692805,\n",
       "        -6.23636959, -6.23636959, -6.23636959, -5.54322241, -6.23636959,\n",
       "        -4.62693168, -6.23636959, -5.54322241, -6.23636959, -5.1377573 ,\n",
       "        -5.54322241, -6.23636959, -6.23636959, -6.23636959, -5.54322241,\n",
       "        -6.23636959, -5.54322241, -5.54322241, -6.23636959, -6.23636959,\n",
       "        -5.54322241, -4.44461012, -5.54322241, -6.23636959, -5.54322241,\n",
       "        -6.23636959, -6.23636959, -5.54322241, -6.23636959, -6.23636959,\n",
       "        -6.23636959, -6.23636959, -5.54322241, -5.54322241, -6.23636959,\n",
       "        -5.54322241, -6.23636959, -5.54322241, -5.54322241, -5.54322241,\n",
       "        -5.54322241, -6.23636959, -5.54322241, -6.23636959, -5.54322241,\n",
       "        -5.54322241, -6.23636959, -6.23636959, -5.54322241, -6.23636959,\n",
       "        -5.54322241, -5.54322241, -5.54322241, -6.23636959, -5.54322241,\n",
       "        -6.23636959, -6.23636959, -6.23636959, -6.23636959, -5.54322241,\n",
       "        -6.23636959, -5.54322241, -6.23636959, -5.54322241, -5.54322241,\n",
       "        -5.54322241, -5.54322241, -5.1377573 , -6.23636959, -5.54322241,\n",
       "        -5.54322241, -5.54322241, -5.54322241, -6.23636959, -5.54322241,\n",
       "        -5.54322241, -4.85007523, -6.23636959, -5.54322241, -6.23636959,\n",
       "        -5.54322241, -5.54322241, -5.54322241, -6.23636959, -6.23636959,\n",
       "        -5.54322241, -5.54322241, -5.54322241, -6.23636959, -5.54322241,\n",
       "        -5.1377573 , -5.1377573 , -6.23636959, -6.23636959, -5.54322241,\n",
       "        -4.44461012, -5.54322241, -5.1377573 , -5.54322241, -6.23636959,\n",
       "        -3.67142023, -4.85007523, -5.54322241, -5.54322241, -5.54322241,\n",
       "        -5.54322241, -5.54322241, -5.54322241, -6.23636959, -6.23636959,\n",
       "        -5.54322241, -5.54322241, -6.23636959, -6.23636959, -6.23636959,\n",
       "        -6.23636959, -5.54322241, -5.54322241, -6.23636959, -5.54322241,\n",
       "        -5.54322241, -6.23636959, -5.54322241, -4.85007523, -6.23636959,\n",
       "        -5.54322241, -6.23636959, -5.54322241, -5.54322241, -6.23636959,\n",
       "        -5.54322241, -5.54322241, -5.54322241, -6.23636959, -5.54322241,\n",
       "        -6.23636959, -5.54322241, -4.62693168, -5.54322241, -6.23636959,\n",
       "        -6.23636959, -5.1377573 , -6.23636959, -5.54322241, -5.54322241,\n",
       "        -6.23636959, -4.15692805, -5.1377573 , -6.23636959, -5.1377573 ,\n",
       "        -5.54322241, -5.54322241, -6.23636959, -5.54322241, -5.54322241,\n",
       "        -5.54322241, -6.23636959, -6.23636959, -6.23636959, -5.54322241,\n",
       "        -5.54322241, -6.23636959, -5.54322241, -6.23636959, -5.54322241,\n",
       "        -5.54322241, -5.54322241, -6.23636959, -5.54322241, -6.23636959,\n",
       "        -5.54322241, -5.54322241, -5.54322241, -5.54322241, -6.23636959,\n",
       "        -5.54322241, -6.23636959, -5.54322241, -6.23636959, -6.23636959,\n",
       "        -6.23636959, -5.54322241, -5.1377573 , -5.54322241, -6.23636959,\n",
       "        -6.23636959, -6.23636959, -6.23636959, -5.54322241, -5.1377573 ,\n",
       "        -5.54322241, -6.23636959, -5.54322241, -6.23636959, -6.23636959,\n",
       "        -5.1377573 , -6.23636959, -5.54322241, -6.23636959, -5.1377573 ,\n",
       "        -5.54322241, -6.23636959, -5.54322241, -6.23636959, -5.54322241,\n",
       "        -5.54322241, -5.1377573 , -5.54322241, -5.54322241, -3.05831576,\n",
       "        -5.1377573 , -5.54322241, -5.54322241, -5.54322241, -6.23636959,\n",
       "        -6.23636959, -3.67142023, -5.54322241, -5.54322241, -6.23636959,\n",
       "        -6.23636959, -6.23636959, -5.54322241, -6.23636959, -5.54322241,\n",
       "        -6.23636959, -5.1377573 , -6.23636959, -6.23636959, -5.54322241,\n",
       "        -5.54322241, -5.1377573 , -6.23636959, -4.15692805, -6.23636959,\n",
       "        -6.23636959, -6.23636959, -5.1377573 , -5.1377573 , -6.23636959,\n",
       "        -5.54322241, -5.54322241, -4.85007523, -5.1377573 , -6.23636959,\n",
       "        -5.1377573 , -6.23636959, -5.54322241, -6.23636959, -5.54322241]])"
      ]
     },
     "execution_count": 118,
     "metadata": {},
     "output_type": "execute_result"
    }
   ],
   "source": [
    "model.feature_log_prob_"
   ]
  }
 ],
 "metadata": {
  "interpreter": {
   "hash": "e649b8cc97eb3d72cef3d66e65a7c5fbdb9b0888d0f21b7b8f500d8005b06ace"
  },
  "kernelspec": {
   "display_name": "Python 3.9.5 64-bit",
   "name": "python3"
  },
  "language_info": {
   "codemirror_mode": {
    "name": "ipython",
    "version": 3
   },
   "file_extension": ".py",
   "mimetype": "text/x-python",
   "name": "python",
   "nbconvert_exporter": "python",
   "pygments_lexer": "ipython3",
   "version": "3.9.5"
  },
  "orig_nbformat": 4
 },
 "nbformat": 4,
 "nbformat_minor": 2
}